{
 "cells": [
  {
   "cell_type": "code",
   "execution_count": null,
   "metadata": {
    "collapsed": false,
    "nbpresent": {
     "id": "d6c6520b-ae8e-4696-b785-7090aacd5c62"
    },
    "slideshow": {
     "slide_type": "skip"
    }
   },
   "outputs": [],
   "source": [
    "%pylab\n",
    "%matplotlib inline\n",
    "import pandas as pd\n",
    "from pandas import DataFrame, Series\n",
    "\n",
    "import json\n",
    "import seaborn as sns\n",
    "import scipy\n",
    "\n",
    "import IPython\n",
    "from IPython.display import Image, display\n",
    "\n",
    "pd.set_option('display.max_rows', 500)\n",
    "pd.set_option('display.max_columns', 500)\n",
    "pd.set_option('display.mpl_style', 'default') # Make the graphs a bit prettier\n",
    "\n",
    "sns.set_style(\"darkgrid\")\n",
    "sns.set_palette(\"bright\")\n",
    "\n",
    "plt.rcParams['figure.figsize'] = (8, 6)\n",
    "plt.rcParams['font.family'] = 'sans-serif'\n",
    "\n",
    "import statsmodels.api as sm\n",
    "import statsmodels.stats.api as sms\n",
    "import statsmodels.formula.api as smf"
   ]
  },
  {
   "cell_type": "markdown",
   "metadata": {
    "nbpresent": {
     "id": "8e8c161b-f1e3-4662-b72e-34de837322fc"
    },
    "slideshow": {
     "slide_type": "slide"
    }
   },
   "source": [
    "----\n",
    "# Teaching Styles"
   ]
  },
  {
   "cell_type": "code",
   "execution_count": null,
   "metadata": {
    "collapsed": false,
    "nbpresent": {
     "id": "b0ad386e-de56-45c0-8e65-88d0713b6023"
    },
    "scrolled": true,
    "slideshow": {
     "slide_type": "subslide"
    }
   },
   "outputs": [],
   "source": [
    "teachingdata = pd.read_table('../../DSUR/10/Teach.dat')\n",
    "teachingdata.head(10)"
   ]
  },
  {
   "cell_type": "code",
   "execution_count": null,
   "metadata": {
    "collapsed": false,
    "nbpresent": {
     "id": "9f280579-774f-43fa-8c66-2b3b6ff35f80"
    },
    "scrolled": true,
    "slideshow": {
     "slide_type": "subslide"
    }
   },
   "outputs": [],
   "source": [
    "teachingdata.groupby(\"group\").describe()"
   ]
  },
  {
   "cell_type": "code",
   "execution_count": null,
   "metadata": {
    "collapsed": false,
    "nbpresent": {
     "id": "46ad02d6-3623-44f2-b8ad-4d0b6e13b505"
    },
    "scrolled": false,
    "slideshow": {
     "slide_type": "slide"
    }
   },
   "outputs": [],
   "source": [
    "sns.pointplot(data=teachingdata, x=\"group\", y=\"exam\", ci=68)"
   ]
  },
  {
   "cell_type": "markdown",
   "metadata": {
    "nbpresent": {
     "id": "b256e052-0e25-46b4-b029-05fd1ddcd108"
    },
    "slideshow": {
     "slide_type": "slide"
    }
   },
   "source": [
    "### ANOVA"
   ]
  },
  {
   "cell_type": "code",
   "execution_count": null,
   "metadata": {
    "collapsed": false,
    "nbpresent": {
     "id": "f6ec8420-3f57-4583-846c-1460ddfa249c"
    },
    "scrolled": true,
    "slideshow": {
     "slide_type": "subslide"
    }
   },
   "outputs": [],
   "source": [
    "g1 = teachingdata[teachingdata.group == 1].exam\n",
    "g2 = teachingdata[teachingdata.group == 2].exam\n",
    "g3 = teachingdata[teachingdata.group == 3].exam\n",
    "f_value, p_value = scipy.stats.f_oneway(g1, g2, g3)\n",
    "print \"F(2,27) =\", f_value, \", p =\", p_value"
   ]
  },
  {
   "cell_type": "code",
   "execution_count": null,
   "metadata": {
    "collapsed": true,
    "nbpresent": {
     "id": "d9933eb5-5653-44d1-9ca4-6229c25f596a"
    }
   },
   "outputs": [],
   "source": []
  }
 ],
 "metadata": {
  "anaconda-cloud": {},
  "kernelspec": {
   "display_name": "Python [default]",
   "language": "python",
   "name": "python2"
  },
  "language_info": {
   "codemirror_mode": {
    "name": "ipython",
    "version": 2
   },
   "file_extension": ".py",
   "mimetype": "text/x-python",
   "name": "python",
   "nbconvert_exporter": "python",
   "pygments_lexer": "ipython2",
   "version": "2.7.12"
  },
  "nbpresent": {
   "slides": {
    "fc791c7f-0cc2-4bb3-bbe1-42fd2e170b5e": {
     "id": "fc791c7f-0cc2-4bb3-bbe1-42fd2e170b5e",
     "prev": null,
     "regions": {
      "53b9439e-ab9b-4663-8d31-f8285663046b": {
       "attrs": {
        "height": 0.8,
        "width": 0.45,
        "x": 0.05,
        "y": 0.1
       },
       "content": {
        "cell": "b256e052-0e25-46b4-b029-05fd1ddcd108",
        "part": "source"
       },
       "id": "53b9439e-ab9b-4663-8d31-f8285663046b"
      },
      "60e46903-8d3a-453b-b852-a51396180cf1": {
       "attrs": {
        "height": 0.8,
        "width": 0.45,
        "x": 0.5,
        "y": 0.1
       },
       "content": {
        "cell": "46ad02d6-3623-44f2-b8ad-4d0b6e13b505",
        "part": "outputs"
       },
       "id": "60e46903-8d3a-453b-b852-a51396180cf1"
      }
     }
    }
   },
   "themes": {}
  }
 },
 "nbformat": 4,
 "nbformat_minor": 0
}

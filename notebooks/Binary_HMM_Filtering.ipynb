{
 "cells": [
  {
   "cell_type": "markdown",
   "metadata": {
    "colab_type": "text",
    "id": "FiAD8Xbj17ot"
   },
   "source": [
    "# Binary Hidden Markov Model Filtering\n",
    "\n",
    "This notebook implements filtering on a simple HMM with binary states and evidence variables, walking you through an example step-by-step.\n",
    "\n",
    "You can also see how the HMM model can be represented as two matrices and subsequently both stages of filtering reduce to the efficient operation of matrix multiplication."
   ]
  },
  {
   "cell_type": "code",
   "execution_count": null,
   "metadata": {
    "colab": {},
    "colab_type": "code",
    "id": "250FHb0X17ov"
   },
   "outputs": [],
   "source": [
    "import numpy as np"
   ]
  },
  {
   "cell_type": "code",
   "execution_count": null,
   "metadata": {
    "colab": {},
    "colab_type": "code",
    "id": "J3F4zzpK17ox"
   },
   "outputs": [],
   "source": [
    "class BinaryHMM:\n",
    "    \"\"\"\n",
    "    startprob: np.array(shape(2,))\n",
    "    transmat: np.array(shape(2,2)) - First column is P(X|x), second is P(X|~x)\n",
    "    emissionprob: np.array(shape(2,2)) - First column is P(E|x), second is P(E|~x)\n",
    "    \"\"\"\n",
    "    def __init__(self, startprob, transmat, emissionprob):\n",
    "        self._startprob = startprob.reshape(2,1) \n",
    "        self._transmat = transmat\n",
    "        self._emissionprob = emissionprob\n",
    "        self._belief = startprob\n",
    "\n",
    "    def timestep(self):\n",
    "        self._belief = np.dot(self._transmat, self._belief)\n",
    "        \n",
    "    def evidence(self, e):\n",
    "        row = 1-e                                              # True is row 0, False is row 1\n",
    "        p_e  = (self._emissionprob[row] * self._belief.T).T    # Re-weigh belief probability by likelihood\n",
    "        self._belief = p_e / sum(p_e)                          # Normalize to sum up to 1\n",
    "            \n",
    "    def filter(self, e):\n",
    "        self.timestep()\n",
    "        self.evidence(e)\n",
    "        \n",
    "    def reset(self, startprob=None):\n",
    "        if startprob is not None:\n",
    "            self._startprob = startprob\n",
    "        if self._startprob is not None:\n",
    "            self._belief = self._startprob\n",
    "            "
   ]
  },
  {
   "cell_type": "markdown",
   "metadata": {
    "colab_type": "text",
    "id": "lqAX0xiA17oz"
   },
   "source": [
    "## Set up the Model\n",
    "\n",
    "Let's take an example of whether your advisor hates you, which is the hidden variable. The evidence is whether they sent you a curt email. We will assume that their mood doesn't change throughout the day and that they send you one email per day. \n",
    "\n",
    "---\n",
    "\n",
    "### Initial Probabilities - $P(X_1)$\n",
    "\n",
    "Initially, we do not know anything about whether they hate you on Day 1 of the semester.\n",
    "\n",
    "$$\n",
    "P(X_1=hates) = 0.5\n",
    "$$\n",
    "And therefore\n",
    "$$\n",
    "P(X_1=\\neg hates) = 0.5\n",
    "$$\n",
    "\n",
    "In other words, we start with a uniform distribution about our Beliefs at time $t=1$. We will simplify by just writing $P(X_i=h)$ and $P(X_i=\\neg h)$.\n",
    "\n",
    "---\n",
    "### Transition Model - $P(X_{i+1}|X_i)$\n",
    "\n",
    "\n",
    "The good thing about this advisor is that they don't hold a grudge. Or, more likely, they don't remember stuff from one day to the next. This is lucky, because if they hate you at time $t=i$, you can't say much about $t=i+1$. It's a complete toss-up what will happen the next day.  \n",
    "\n",
    "Formally\n",
    "\n",
    "$$\n",
    "P(X_{i+1}=h | X_i=h) = 0.5 \\quad \\text{and therefore}  \\quad P(X_{i+1}=\\neg h | X_i=h) = 0.5 \\\\\n",
    "$$\n",
    "\n",
    "\n",
    "\n",
    "If they don't hate you at $t=i$, your odds are actually better the next day. The chance of them hating you all of a sudden are small, a mere 10%. \n",
    "\n",
    "\n",
    "$$\n",
    "P(X_{i+1}=h | X_i=\\neg h) = 0.1 \\quad \\text{and therefore}  \\quad  P(X_{i+1}=\\neg h | X_i=\\neg h) = 0.9 \n",
    "$$\n",
    "\n",
    "---\n",
    "\n",
    "### Evidence (Sensor) Model - $P(e_i|X_i)$\n",
    "\n",
    "The only way for us to guess if they hate us or not is based on whether they sent us a curt email. From talking to other students, we discover that there's a pattern to their email sending conditioned on their feelings for us. If they hate us, they are almost certain to sent us a curt email:\n",
    "\n",
    "$$\n",
    "P(e_i=curt | X_i=h) = 0.99 \\quad \\text{and therefore}  \\quad  P(e_i=\\neg curt | X_i=h) = 0.01 \\\\\n",
    "$$\n",
    "\n",
    "Again, we will shorten to $P(e_i=c)$.\n",
    "\n",
    "It turns out that if they don't hate us, they will still usually send a curt email, just because they're insanely busy. In fact that will happen 70% of the time they don't hate us.\n",
    "\n",
    "$$\n",
    "P(e_i=c | X_i=\\neg h) = 0.7 \\quad \\text{and therefore}  \\quad  P(e_i=\\neg c | \\ X_i=\\neg h) = 0.3 \\\\\n",
    "$$\n"
   ]
  },
  {
   "cell_type": "code",
   "execution_count": null,
   "metadata": {
    "colab": {},
    "colab_type": "code",
    "id": "YD0jrCq617oz"
   },
   "outputs": [],
   "source": [
    "# These are all the vectors / matrices representing the above model\n",
    "startprob = np.array([.5, .5])\n",
    "transmat = np.array([[0.5, 0.1], [0.5, 0.9]])\n",
    "emissionprob = np.array([[0.99, 0.7], [0.01, 0.3]])"
   ]
  },
  {
   "cell_type": "markdown",
   "metadata": {
    "colab_type": "text",
    "id": "0kcZKxaQ17o2"
   },
   "source": [
    "Let's initialize the HMM with this model. As you can see, the current belief $B(X_1)$ is 50%-50%."
   ]
  },
  {
   "cell_type": "code",
   "execution_count": null,
   "metadata": {
    "colab": {
     "base_uri": "https://localhost:8080/",
     "height": 34
    },
    "colab_type": "code",
    "id": "KkRwEat717o2",
    "outputId": "826ecb64-1b0a-4555-be70-bea8128092ca"
   },
   "outputs": [],
   "source": [
    "model = BinaryHMM (startprob, transmat, emissionprob)\n",
    "print (model._belief)"
   ]
  },
  {
   "cell_type": "markdown",
   "metadata": {
    "colab_type": "text",
    "id": "5QUlvmF-17o7"
   },
   "source": [
    "# Time Passage / Dynamics\n",
    "\n",
    "You wait a day, and now have a new belief based on your Transition Model. This is $B^*(X_2)$, or the **intermediate** belief after time has passed, but **before** you got today's email. \n",
    "\n",
    "This time step belief update is given by\n",
    "\n",
    "$$\n",
    "B^*(X_{t+1}) = \\sum_{x_t} B(x_t)P(X_{t+1} | x_t)\n",
    "$$\n",
    "\n",
    "Or in our case\n",
    "\n",
    "$$\n",
    "B^*(X_{t+1}=h) = 0.5 \\times 0.5 + 0.5 \\times 0.1 = 0.25 + 0.05 = 0.3\n",
    "$$\n",
    "\n",
    "Read this as: What's the probability of them hating us today knowing only the belief from the previous day?  \n",
    "\n",
    "Either they hated us yesterday (0.5 chance), then it's a toss-up (0.5), or they didn't (also 0.5 chance), but then it's unlikely that they hate us today (0.1). \n",
    "\n",
    "The probability of them not hating us is the 1-complement. You could equally calculate from the second vector component.\n",
    "\n",
    "Also notice that this can be compactly represented as a dot product of the transition matrix and the previous day's belief. In our code it looks like this:\n",
    "\n",
    "```python\n",
    "    def timestep(self):\n",
    "        self._belief = np.dot(self._transmat, self._belief)\n",
    "```\n"
   ]
  },
  {
   "cell_type": "code",
   "execution_count": null,
   "metadata": {
    "colab": {},
    "colab_type": "code",
    "id": "RX8QJMNP17o7"
   },
   "outputs": [],
   "source": [
    "model.timestep()\n",
    "print (model._belief)"
   ]
  },
  {
   "cell_type": "markdown",
   "metadata": {
    "colab_type": "text",
    "id": "FEcEJJ1l17o-"
   },
   "source": [
    "# Evidence Observation\n",
    "\n",
    "Now you got your daily email, and what do you know? It's curt. \n",
    "\n",
    "You want to update your belief based on the evidence and get $B(X_2)$\n",
    "\n",
    "This evidence-based belief update is done by re-weighing each of your belief values by the likelihood (the Bayesian \"flip\") of the evidence given the belief value. In other words, you take your intermediate belief $B^*(X_{t+1})$ and for each value you multiply it by the probability to have seen the specific evidence given that value, normalized by the posterior to sum up to 1.\n",
    "\n",
    "Formally:\n",
    "\n",
    "$$\n",
    "B(X_{t+1}) = \\frac{B^*(x_{t+1})P(e_{t+1} | x_{t+1})}{P(e_{t+1})}\n",
    "$$\n",
    "\n",
    "Remember that the denominator is just the sum of all the values for the numerator. \n",
    "\n",
    "Let's calculate the numerators:\n",
    "\n",
    "$$\n",
    "B(X_{t+1}=h)  \\propto 0.3 \\times 0.99 = 0.297\n",
    "$$\n",
    "\n",
    "Read this as: The product of the current belief (probability) of being hated times the likelihood of the curt email evidence if the advisor actually hated you.\n",
    "\n",
    "And conversely:\n",
    "\n",
    "\n",
    "$$\n",
    "B(X_{t+1}=\\neg h) \\propto 0.7 \\times 0.7 = 0.49\n",
    "$$\n",
    "\n",
    "Read this as: The product of the current belief of not being hated times the likelihood of the curt email evidence if there is no hatred involved. Due to being busy, that is still quite likely (70%).\n",
    "\n",
    "To get the actual probability for $B(X_{t+1}=h)$ we normalize by the sum of all probability values:\n",
    "\n",
    "$$\n",
    "B(X_{t+1}=h) = \\frac{0.297}{0.297+.49} = 0.377\n",
    "$$\n",
    "\n",
    "And conversely:\n",
    "\n",
    "$$\n",
    "B(X_{t+1}=\\neg h) = \\frac{0.49}{0.297+.49} = 0.623\n",
    "$$\n",
    "\n",
    "\n",
    "\n",
    "In our code it looks like this:\n",
    "\n",
    "```python\n",
    "    def evidence(self, e):\n",
    "        row = 1-e                                            # True is row 0, False is row 1\n",
    "        p_e  = (self._emissionprob[row] * self._belief.T).T  # Re-weigh belief probability by likelihood\n",
    "        self._belief = p_e / sum(p_e)                        # Normalize to sum up to 1\n",
    "```\n"
   ]
  },
  {
   "cell_type": "code",
   "execution_count": null,
   "metadata": {
    "colab": {},
    "colab_type": "code",
    "id": "T9unFNXZ17o_"
   },
   "outputs": [],
   "source": [
    "model.evidence(True)\n",
    "print (model._belief)"
   ]
  },
  {
   "cell_type": "markdown",
   "metadata": {
    "colab_type": "text",
    "id": "YUV8JabP17pC"
   },
   "source": [
    "Looking at these numbers, it is interesting to note that even though the email was curt, our model infers that the probability of the advisor hating us is still low, and close to the pre-evidence value of 0.3. It is slightly higher because curt emails are more likely when they hate us, but the \"prior\" of 0.3 and the high likelihood of the curt emails without hate held the increase back. \n",
    "\n",
    "The transition model made our original estimate go from 0.5 to 0.3 because, let's face it, the advisor most likely does not hate you. They are just busy. The transition model also indicates that, if they did hate you, they generally forgot about it the next day, which also contributes to the decline in $P(X_t=h)$. \n",
    "\n",
    "Let's see what happens when we run this for ten more days, with you receiving a curt email every day."
   ]
  },
  {
   "cell_type": "code",
   "execution_count": null,
   "metadata": {
    "colab": {},
    "colab_type": "code",
    "id": "sVyYmq5Y17pC"
   },
   "outputs": [],
   "source": [
    "for i in range(10):\n",
    "    model.timestep()\n",
    "    print (\"After Transition\")\n",
    "    print (model._belief)\n",
    "    model.evidence(True)\n",
    "    print (\"After Curt Email Evidence\")\n",
    "    print (model._belief)\n",
    "    print (\"------------\")\n"
   ]
  },
  {
   "cell_type": "markdown",
   "metadata": {
    "colab_type": "text",
    "id": "-NN96s6J17pF"
   },
   "source": [
    "Every day that passes the probability of hatred goes down ($B^*$ before evidence), and every curt email, it goes up. Eventually, our belief near-settles on an oscillation between 0.21 and 0.27. This convergence is due to the fact that our evidence is constant. \n",
    "\n",
    "What would happen if we get a long email all of a sudden? Try to guess before running the code. Then try to calculate it by hand.\n"
   ]
  },
  {
   "cell_type": "code",
   "execution_count": null,
   "metadata": {
    "colab": {},
    "colab_type": "code",
    "id": "Co-FTMUG17pG"
   },
   "outputs": [],
   "source": [
    "model.timestep()\n",
    "print (\"After Transition\")\n",
    "print (model._belief)\n",
    "model.evidence(False)\n",
    "print (\"After Long Email Evidence\")\n",
    "print (model._belief)\n"
   ]
  },
  {
   "cell_type": "markdown",
   "metadata": {
    "colab_type": "text",
    "id": "rWI0xQtw17pJ"
   },
   "source": [
    "You can see that since the likelihood of a long email when the advisor hates you is so low (0.01), even a single evidence of a long email drastically reduces the belief $B(X_t=h)$ to less than 0.01. Numerically speaking, this drop in probability happened when the likelihood of that event (long email given hate) was multiplied with the already low probability of the hidden state (hating).\n",
    "\n",
    "Now try out some different models of the system. What if the advisor does hold grudges? How would you model that?  What if they are likely to send long emails if they don't hate you? How do these change affect the dynamics of the inference system?\n",
    "\n",
    "Enjoy, and remember: your advisor is just busy!\n",
    "\n",
    "![Average time spent composing one e-mail](http://phdcomics.com/comics/archive/phd072508s.gif)\n"
   ]
  }
 ],
 "metadata": {
  "colab": {
   "collapsed_sections": [],
   "name": "Binary HMM Filtering.ipynb",
   "provenance": [],
   "version": "0.3.2"
  },
  "kernelspec": {
   "display_name": "Python 3",
   "language": "python",
   "name": "python3"
  },
  "language_info": {
   "codemirror_mode": {
    "name": "ipython",
    "version": 3
   },
   "file_extension": ".py",
   "mimetype": "text/x-python",
   "name": "python",
   "nbconvert_exporter": "python",
   "pygments_lexer": "ipython3",
   "version": "3.7.4"
  }
 },
 "nbformat": 4,
 "nbformat_minor": 1
}

{
 "cells": [
  {
   "cell_type": "code",
   "execution_count": null,
   "metadata": {},
   "outputs": [],
   "source": [
    "%pylab\n",
    "%matplotlib inline\n",
    "import pandas as pd\n",
    "from pandas import DataFrame, Series\n",
    "\n",
    "import json\n",
    "import seaborn as sns\n",
    "\n",
    "import IPython\n",
    "from IPython.display import Image, display\n",
    "\n",
    "pd.set_option('display.max_rows', 500)\n",
    "pd.set_option('display.max_columns', 500)\n",
    "\n",
    "sns.set_style(\"darkgrid\")\n",
    "sns.set_palette(\"bright\")\n",
    "\n",
    "plt.rcParams['figure.figsize'] = (13, 9)\n",
    "plt.rcParams['font.family'] = 'sans-serif'\n"
   ]
  },
  {
   "cell_type": "markdown",
   "metadata": {},
   "source": [
    "----\n",
    "## Facebook Narcissism\n",
    "\n",
    "Earlier in the chapter we mentioned a study that looked at ratings of Facebook profile pictures (rated on coolness, fashion, attractiveness and glamour) and predicting them from how highly the person posting the picture scores on narcissism (Ong et al., 2011). \n",
    "\n",
    "Field, Andy,Miles, Jeremy,Field, Zoe. Discovering Statistics Using R (p. 133). SAGE Publications. Kindle Edition. \n",
    "\n",
    "The data structure is:\n",
    "\n",
    "1. `id`: a number indicating from which participant the profile photo came. \n",
    "2. `NPQC_R_Total`: the total score on the narcissism questionnaire. \n",
    "3. `Rating_Type`: whether the rating was for coolness, glamour, fashion or attractiveness (stored as strings of text). \n",
    "4. `Rating`: the rating given (on a scale from 1 to 5). \n",
    "\n",
    "_Field, Andy,Miles, Jeremy,Field, Zoe. Discovering Statistics Using R (p. 133). SAGE Publications. Kindle Edition._ "
   ]
  },
  {
   "cell_type": "code",
   "execution_count": null,
   "metadata": {},
   "outputs": [],
   "source": [
    "facebookdata = pd.read_table('../../DSUR/04/FacebookNarcissism.dat')"
   ]
  },
  {
   "cell_type": "code",
   "execution_count": null,
   "metadata": {},
   "outputs": [],
   "source": [
    "facebookdata.head(10)"
   ]
  },
  {
   "cell_type": "code",
   "execution_count": null,
   "metadata": {
    "scrolled": true
   },
   "outputs": [],
   "source": [
    "sns.lmplot(data=facebookdata, x=\"NPQC_R_Total\", y=\"Rating\", fit_reg=False)"
   ]
  },
  {
   "cell_type": "code",
   "execution_count": null,
   "metadata": {},
   "outputs": [],
   "source": [
    "sns.lmplot(data=facebookdata, x=\"NPQC_R_Total\", y=\"Rating\", col=\"Rating_Type\", y_jitter=.25,fit_reg=False)"
   ]
  },
  {
   "cell_type": "code",
   "execution_count": null,
   "metadata": {},
   "outputs": [],
   "source": [
    "sns.lmplot(data=facebookdata, x=\"NPQC_R_Total\", y=\"Rating\", markers=[\"x\",\"o\",\"s\",\"v\"], hue=\"Rating_Type\", y_jitter=0.25,fit_reg=False)"
   ]
  },
  {
   "cell_type": "markdown",
   "metadata": {},
   "source": [
    "----\n",
    "## Exam Anxiety\n",
    "\n",
    "For example, a psychologist was interested in the effects of exam stress on exam performance. So, she devised and validated a questionnaire to assess state anxiety relating to exams (called the Exam Anxiety Questionnaire, or EAQ). This scale produced a measure of anxiety scored out of 100. Anxiety was measured before an exam, and the percentage mark of each student on the exam was used to assess the exam performance. \n",
    "\n",
    "_Field, Andy,Miles, Jeremy,Field, Zoe. Discovering Statistics Using R (p. 136). SAGE Publications. Kindle Edition._"
   ]
  },
  {
   "cell_type": "code",
   "execution_count": null,
   "metadata": {},
   "outputs": [],
   "source": [
    "examdata = pd.read_table('../../DSUR/04/Exam Anxiety.dat')"
   ]
  },
  {
   "cell_type": "code",
   "execution_count": null,
   "metadata": {},
   "outputs": [],
   "source": [
    "examdata.head(10)"
   ]
  },
  {
   "cell_type": "code",
   "execution_count": null,
   "metadata": {},
   "outputs": [],
   "source": [
    "sns.lmplot(data=examdata, x=\"Anxiety\", y=\"Exam\", fit_reg=False)"
   ]
  },
  {
   "cell_type": "code",
   "execution_count": null,
   "metadata": {},
   "outputs": [],
   "source": [
    "sns.lmplot(data=examdata, x=\"Anxiety\", y=\"Exam\")"
   ]
  },
  {
   "cell_type": "code",
   "execution_count": null,
   "metadata": {},
   "outputs": [],
   "source": [
    "sns.lmplot(data=examdata, x=\"Anxiety\", y=\"Exam\", order=2)"
   ]
  },
  {
   "cell_type": "code",
   "execution_count": null,
   "metadata": {},
   "outputs": [],
   "source": [
    "sns.lmplot(data=examdata, x=\"Anxiety\", y=\"Exam\", order=3, ci=None)"
   ]
  },
  {
   "cell_type": "code",
   "execution_count": null,
   "metadata": {},
   "outputs": [],
   "source": [
    "sns.lmplot(data=examdata, x=\"Anxiety\", y=\"Exam\", hue=\"Gender\")"
   ]
  },
  {
   "cell_type": "code",
   "execution_count": null,
   "metadata": {},
   "outputs": [],
   "source": [
    "sns.lmplot(data=examdata, x=\"Anxiety\", y=\"Exam\", col=\"Gender\", hue=\"Gender\")"
   ]
  },
  {
   "cell_type": "markdown",
   "metadata": {},
   "source": [
    "---\n",
    "## Festival Data\n",
    "\n",
    "Hygiene was measured using a standardized technique (don’t worry, it wasn’t licking the person’s armpit) that results in a score ranging between 0 (you smell like a corpse that’s been left to rot up a skunk’s arse) and 4 (you smell of sweet roses on a fresh spring day). \n",
    "\n",
    "_Field, Andy,Miles, Jeremy,Field, Zoe. Discovering Statistics Using R (p. 142). SAGE Publications. Kindle Edition._"
   ]
  },
  {
   "cell_type": "code",
   "execution_count": null,
   "metadata": {},
   "outputs": [],
   "source": [
    "festivaldata = pd.read_table('../../DSUR/04/DownloadFestival.dat')"
   ]
  },
  {
   "cell_type": "code",
   "execution_count": null,
   "metadata": {},
   "outputs": [],
   "source": [
    "festivaldata.head(10)"
   ]
  },
  {
   "cell_type": "code",
   "execution_count": null,
   "metadata": {},
   "outputs": [],
   "source": [
    "sns.distplot(festivaldata.day1, kde=False)"
   ]
  },
  {
   "cell_type": "code",
   "execution_count": null,
   "metadata": {},
   "outputs": [],
   "source": [
    "d1 = festivaldata.day1\n",
    "print (\"Stdev:\", d1.std())\n",
    "print (\"3x Stdev:\", 3*d1.std())\n",
    "print (\"Distance from mean:\", ((d1-d1.mean()).abs()).head(5))"
   ]
  },
  {
   "cell_type": "code",
   "execution_count": null,
   "metadata": {},
   "outputs": [],
   "source": [
    "cleand1 = d1[~((d1-d1.mean()).abs()>3*d1.std())]"
   ]
  },
  {
   "cell_type": "code",
   "execution_count": null,
   "metadata": {},
   "outputs": [],
   "source": [
    "sns.distplot(cleand1, kde=False)"
   ]
  }
 ],
 "metadata": {
  "anaconda-cloud": {},
  "kernelspec": {
   "display_name": "Python 3",
   "language": "python",
   "name": "python3"
  },
  "language_info": {
   "codemirror_mode": {
    "name": "ipython",
    "version": 3
   },
   "file_extension": ".py",
   "mimetype": "text/x-python",
   "name": "python",
   "nbconvert_exporter": "python",
   "pygments_lexer": "ipython3",
   "version": "3.7.7"
  }
 },
 "nbformat": 4,
 "nbformat_minor": 1
}

{
 "cells": [
  {
   "cell_type": "code",
   "execution_count": 1,
   "id": "pursuant-satin",
   "metadata": {},
   "outputs": [],
   "source": [
    "import numpy as np\n",
    "import matplotlib.pyplot as plt\n"
   ]
  },
  {
   "cell_type": "code",
   "execution_count": 2,
   "id": "sustainable-lebanon",
   "metadata": {},
   "outputs": [],
   "source": [
    "mu = 50\n",
    "sig = 10  # variance = 100"
   ]
  },
  {
   "cell_type": "code",
   "execution_count": 84,
   "id": "ordered-peace",
   "metadata": {},
   "outputs": [],
   "source": [
    "n = 10"
   ]
  },
  {
   "cell_type": "code",
   "execution_count": 85,
   "id": "aerial-groove",
   "metadata": {},
   "outputs": [],
   "source": [
    "dmeans = []\n",
    "dsig2s  = []\n",
    "\n",
    "for i in range(100):\n",
    "    \n",
    "    sample = np.random.normal(mu, sig, n)\n",
    "    xbar = sample.mean()\n",
    "    xvar = sample.var(ddof=0)\n",
    "    \n",
    "    dmeans.append(xbar-mu)\n",
    "    dsig2s.append(xvar-sig**2)"
   ]
  },
  {
   "cell_type": "code",
   "execution_count": 86,
   "id": "painted-firewall",
   "metadata": {},
   "outputs": [
    {
     "data": {
      "text/plain": [
       "[<matplotlib.lines.Line2D at 0x10d72ab80>]"
      ]
     },
     "execution_count": 86,
     "metadata": {},
     "output_type": "execute_result"
    },
    {
     "data": {
      "image/png": "[encoded data removed]",
      "text/plain": [
       "<Figure size 432x288 with 1 Axes>"
      ]
     },
     "metadata": {
      "needs_background": "light"
     },
     "output_type": "display_data"
    }
   ],
   "source": [
    "plt.xlabel(\"Diff from Mean\")\n",
    "plt.ylabel(\"Diff from Var\")\n",
    "plt.plot([0,0],[-130,130], 'orange')  # Add population mean\n",
    "plt.plot([-30,30],[0,0], 'orange')    # Add population variance\n",
    "\n",
    "plt.scatter(dmeans, dsig2s, marker='.', color='grey')\n",
    "plt.plot(np.mean(dmeans), np.mean(dsig2s), 'ro', markersize=10)\n"
   ]
  },
  {
   "cell_type": "code",
   "execution_count": null,
   "id": "consecutive-midnight",
   "metadata": {},
   "outputs": [],
   "source": []
  }
 ],
 "metadata": {
  "kernelspec": {
   "display_name": "Python 3",
   "language": "python",
   "name": "python3"
  },
  "language_info": {
   "codemirror_mode": {
    "name": "ipython",
    "version": 3
   },
   "file_extension": ".py",
   "mimetype": "text/x-python",
   "name": "python",
   "nbconvert_exporter": "python",
   "pygments_lexer": "ipython3",
   "version": "3.9.2"
  }
 },
 "nbformat": 4,
 "nbformat_minor": 5
}
